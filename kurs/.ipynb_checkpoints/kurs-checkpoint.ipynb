{
 "cells": [
  {
   "cell_type": "markdown",
   "id": "ea295107-4f1c-49e7-aaac-0e8e66f34169",
   "metadata": {},
   "source": [
    "https://paperswithcode.com/dataset/oxford-102-flower"
   ]
  },
  {
   "cell_type": "markdown",
   "id": "811a1b5c-02d3-49e4-ad57-ded8168cf92b",
   "metadata": {},
   "source": [
    "Скачаем и разархивируем датасет в папку dataset"
   ]
  },
  {
   "cell_type": "code",
   "execution_count": 11,
   "id": "78e2c0e9-8ef4-4398-ac95-94c9f73e5145",
   "metadata": {},
   "outputs": [
    {
     "name": "stdout",
     "output_type": "stream",
     "text": [
      "--2022-12-19 15:46:35--  https://storage.googleapis.com/download.tensorflow.org/example_images/flower_photos.tgz\n",
      "Resolving storage.googleapis.com (storage.googleapis.com)... 173.194.221.128, 64.233.161.128, 173.194.222.128, ...\n",
      "Connecting to storage.googleapis.com (storage.googleapis.com)|173.194.221.128|:443... connected.\n",
      "HTTP request sent, awaiting response... 200 OK\n",
      "Length: 228813984 (218M) [application/x-compressed-tar]\n",
      "Saving to: ‘dataset/flower_photos.tgz’\n",
      "\n",
      "flower_photos.tgz   100%[===================>] 218.21M  9.62MB/s    in 22s     \n",
      "\n",
      "2022-12-19 15:46:57 (9.78 MB/s) - ‘dataset/flower_photos.tgz’ saved [228813984/228813984]\n",
      "\n"
     ]
    }
   ],
   "source": [
    "!wget 'https://storage.googleapis.com/download.tensorflow.org/example_images/flower_photos.tgz' -P dataset"
   ]
  },
  {
   "cell_type": "code",
   "execution_count": 13,
   "id": "88276b3c-3795-44b6-9b28-92cb59e41a89",
   "metadata": {},
   "outputs": [],
   "source": [
    "!cd dataset && tar -xf flower_photos.tgz"
   ]
  },
  {
   "cell_type": "code",
   "execution_count": 2,
   "id": "78386889-3d4a-4e5d-8170-7ed3e2c4f992",
   "metadata": {},
   "outputs": [],
   "source": [
    "import tensorflow as tf\n",
    "\n",
    "from PIL import Image\n",
    "import requests\n",
    "from io import BytesIO\n",
    "\n",
    "import matplotlib.pyplot as plt\n",
    "import numpy as np\n",
    "\n",
    "import os\n",
    "import pathlib"
   ]
  },
  {
   "cell_type": "code",
   "execution_count": 3,
   "id": "241c6b87-eac1-4d7c-9fbf-b792e0a36f96",
   "metadata": {},
   "outputs": [],
   "source": [
    "tf_flowers_labels = ['dandelion', 'daisy', 'tulips', 'sunflowers', 'roses']"
   ]
  },
  {
   "cell_type": "code",
   "execution_count": 4,
   "id": "a8dde4c5-159b-4c32-9f97-6dafddb4884a",
   "metadata": {},
   "outputs": [
    {
     "ename": "NameError",
     "evalue": "name 'hub' is not defined",
     "output_type": "error",
     "traceback": [
      "\u001b[0;31m---------------------------------------------------------------------------\u001b[0m",
      "\u001b[0;31mNameError\u001b[0m                                 Traceback (most recent call last)",
      "Input \u001b[0;32mIn [4]\u001b[0m, in \u001b[0;36m<cell line: 2>\u001b[0;34m()\u001b[0m\n\u001b[1;32m      1\u001b[0m model_url \u001b[38;5;241m=\u001b[39m \u001b[38;5;124m\"\u001b[39m\u001b[38;5;124mhttps://tfhub.dev/google/bit/m-r50x1/1\u001b[39m\u001b[38;5;124m\"\u001b[39m\n\u001b[0;32m----> 2\u001b[0m module \u001b[38;5;241m=\u001b[39m hub\u001b[38;5;241m.\u001b[39mKerasLayer(model_url)\n",
      "\u001b[0;31mNameError\u001b[0m: name 'hub' is not defined"
     ]
    }
   ],
   "source": [
    "model_url = \"https://tfhub.dev/google/bit/m-r50x1/1\"\n",
    "module = hub.KerasLayer(model_url)"
   ]
  },
  {
   "cell_type": "code",
   "execution_count": null,
   "id": "f4b83f2b-4584-44fa-b986-d4fdf203d0b1",
   "metadata": {},
   "outputs": [],
   "source": []
  }
 ],
 "metadata": {
  "kernelspec": {
   "display_name": "Python 3 (ipykernel)",
   "language": "python",
   "name": "python3"
  },
  "language_info": {
   "codemirror_mode": {
    "name": "ipython",
    "version": 3
   },
   "file_extension": ".py",
   "mimetype": "text/x-python",
   "name": "python",
   "nbconvert_exporter": "python",
   "pygments_lexer": "ipython3",
   "version": "3.9.13"
  }
 },
 "nbformat": 4,
 "nbformat_minor": 5
}
