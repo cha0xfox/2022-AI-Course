{
 "cells": [
  {
   "cell_type": "code",
   "execution_count": 1,
   "metadata": {},
   "outputs": [],
   "source": [
    "import numpy as np\n",
    "import matplotlib.pyplot as plt\n",
    "from sklearn import datasets\n",
    "from mpl_toolkits.mplot3d import Axes3D\n",
    "\n",
    "def f(x,y):\n",
    "    return (x**2+y-11)**2 + (x+y**2-7)**2\n",
    "\n",
    "def gradf (x,y):\n",
    "    return np.array([(2*(-7 + x + y**2 + 2*x*(-11 + x**2 + y))), (2*(-11 + x**2 + y + 2*y*(-7 + x + y**2)) )])\n",
    "\n",
    "def dx(x,y):\n",
    "    return 2*(-7 + x + y**2 + 2*x*(-11 + x**2 + y))\n",
    "\n",
    "def dy(x,y):\n",
    "    return 2*(-11 + x**2 + y + 2*y*(-7 + x + y**2))  "
   ]
  },
  {
   "cell_type": "markdown",
   "metadata": {},
   "source": [
    "dx: 2 (-7 + x + y^2 + 2 x (-11 + x^2 + y))\n",
    "\n",
    "dy: 2 (-11 + x^2 + y + 2 y (-7 + x + y^2))"
   ]
  },
  {
   "cell_type": "markdown",
   "metadata": {},
   "source": [
    "# ADAM"
   ]
  },
  {
   "cell_type": "code",
   "execution_count": 2,
   "metadata": {},
   "outputs": [],
   "source": [
    "def adam(f, gradf, x0, y0, lr=0.01, lrf=10, k=0.1, km=0.9, kms=0.9, N=100):\n",
    "    \"\"\"Adam GD\n",
    "\n",
    "    Args:\n",
    "        f (_type_): function\n",
    "        gradf (_type_): gradient of a fucntion\n",
    "        x0 (_type_): start pos x\n",
    "        y0 (_type_): start pos y\n",
    "        lr (float, optional): learning rate. Defaults to 0.01.\n",
    "        lrf (int, optional): learning rate fall off. Defaults to 10.\n",
    "        k (float, optional): factor of decreasing learning rate . Defaults to 0.1.\n",
    "        km (float, optional): factor of momentum. Defaults to 0.9.\n",
    "        kms (float, optional): factor of momentum smoothing. Defaults to 0.9.\n",
    "        N (int): Iterations count. Defaults to 100.\n",
    "    \"\"\"\n",
    "    m = np.zeros(gradf(x0 ,y0).shape)\n",
    "    gradSq = np.zeros((gradf(x0,y0)**2).shape)\n",
    "\n",
    "    for i in range(N):\n",
    "        if (i%lrf) == 0:\n",
    "            lr*=k\n",
    "        m=km*m-lr*(1-km)*gradf(x0,y0)\n",
    "        gradSq=kms*gradSq+(1-kms)*gradf(x0,y0)**2\n",
    "\n",
    "        n = (lr*gradf(x0,y0)*m)/(gradSq+10**(-6))**0.5\n",
    "\n",
    "        x = x0-n[0]\n",
    "        y = y0-n[1]\n",
    "    return x,y, f(x,y)\n"
   ]
  },
  {
   "cell_type": "code",
   "execution_count": 3,
   "metadata": {},
   "outputs": [
    {
     "data": {
      "text/plain": [
       "(array([ 1.12031365, -0.49772229,  1.9263585 ,  2.49913075,  3.54934659,\n",
       "         1.7373078 ,  2.91970372,  2.84382807,  0.87305123,  2.36833522]),\n",
       " array([5.75806083, 1.55128226, 4.15243012, 1.23133799, 0.6925054 ,\n",
       "        4.42546234, 0.15549864, 3.32650945, 4.71438583, 0.04356792]))"
      ]
     },
     "execution_count": 3,
     "metadata": {},
     "output_type": "execute_result"
    }
   ],
   "source": [
    "#набор точек\n",
    "z, y = datasets.make_blobs(n_samples=10, centers=2, n_features=2, random_state=0)\n",
    "y = np.zeros(10)\n",
    "x = np.zeros(10)\n",
    "# Нам нужно сравнить размерности массивов\n",
    "#y=np.reshape(y,x.shape)\n",
    "for i in range(len(z)):\n",
    "    x[i],y[i] = z[i];\n",
    "x, y"
   ]
  },
  {
   "cell_type": "code",
   "execution_count": 4,
   "metadata": {},
   "outputs": [
    {
     "data": {
      "text/plain": [
       "(array([ 1.12035034, -0.49771416,  1.92635866,  2.49917195,  3.54937317,\n",
       "         1.73731173,  2.91973893,  2.8438466 ,  0.87306414,  2.36839515]),\n",
       " array([5.75868117, 1.55133226, 4.152626  , 1.23135974, 0.69250905,\n",
       "        4.42570879, 0.1555058 , 3.32660223, 4.7146784 , 0.04357942]),\n",
       " array([760.23820886, 110.57657063, 157.96273198,  21.31770305,\n",
       "         14.07384632, 217.82840799,  21.83240824,  47.9213328 ,\n",
       "        289.75488258,  50.02592043]))"
      ]
     },
     "execution_count": 4,
     "metadata": {},
     "output_type": "execute_result"
    }
   ],
   "source": [
    "adam(f,gradf,x,y,lr=0.1,lrf=50,km=0.8,kms=0.9)"
   ]
  }
 ],
 "metadata": {
  "kernelspec": {
   "display_name": "Python 3 (ipykernel)",
   "language": "python",
   "name": "python3"
  },
  "language_info": {
   "codemirror_mode": {
    "name": "ipython",
    "version": 3
   },
   "file_extension": ".py",
   "mimetype": "text/x-python",
   "name": "python",
   "nbconvert_exporter": "python",
   "pygments_lexer": "ipython3",
   "version": "3.9.13"
  },
  "orig_nbformat": 4
 },
 "nbformat": 4,
 "nbformat_minor": 2
}
