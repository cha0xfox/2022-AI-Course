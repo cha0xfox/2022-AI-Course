{
 "cells": [
  {
   "cell_type": "code",
   "execution_count": null,
   "metadata": {},
   "outputs": [],
   "source": [
    "%matplotlib ipympl\n",
    "import numpy as np\n",
    "from matplotlib import pyplot as plt\n",
    "from mpl_toolkits.mplot3d import Axes3D\n",
    "plt.ioff()"
   ]
  },
  {
   "cell_type": "code",
   "execution_count": null,
   "metadata": {},
   "outputs": [],
   "source": [
    "def f (x,y):      # Функция Матьяса\n",
    "    return 0.26 * (x*x + y*y) - 0.48*x*y\n",
    "\n",
    "def gradf (x,y):\n",
    "    return np.array([(0.52*x - 0.48*y), (-0.48*x + 0.52*y)])\n",
    "\n",
    "def dx(x,y):\n",
    "    return (0.52*x - 0.48*y)\n",
    "\n",
    "def dy(x,y):\n",
    "    return (-0.48*x + 0.52*y)   \n"
   ]
  },
  {
   "cell_type": "code",
   "execution_count": null,
   "metadata": {},
   "outputs": [],
   "source": [
    "x0 = 11\n",
    "y0 = -9\n",
    "lr1 = 0.2"
   ]
  },
  {
   "cell_type": "code",
   "execution_count": null,
   "metadata": {},
   "outputs": [],
   "source": [
    "a = b = np.arange(-10,10,0.1)\n",
    "\n",
    "xgrid, ygrid = np.meshgrid(a, b)\n",
    "\n",
    "zgrid = f(xgrid,ygrid)\n",
    "\n",
    "fig = plt.figure(figsize=(7, 4))\n",
    "\n",
    "ax_3d = Axes3D(fig, auto_add_to_figure=True)\n",
    "\n",
    "ax_3d.plot_surface(xgrid, ygrid, zgrid, cmap='plasma', alpha=0.5)\n",
    "\n",
    "ax_3d.set_xlabel('x')\n",
    "ax_3d.set_ylabel('y')\n",
    "ax_3d.set_zlabel('f')\n",
    "\n",
    "point = ax_3d.scatter(x0, y0, f(x0, y0), c='green')"
   ]
  },
  {
   "cell_type": "code",
   "execution_count": null,
   "metadata": {},
   "outputs": [],
   "source": [
    "for n in range(30):\n",
    "    x0 = x0 - lr1 * dx(x0,y0)\n",
    "    y0 = y0 - lr1 * dy(x0,y0)\n",
    "\n",
    "    ax_3d.scatter(x0, y0, f(x0, y0), c='green')\n",
    "    \n",
    "plt.show()"
   ]
  }
 ],
 "metadata": {
  "kernelspec": {
   "display_name": "Python 3 (ipykernel)",
   "language": "python",
   "name": "python3"
  },
  "orig_nbformat": 4,
  "vscode": {
   "interpreter": {
    "hash": "b0fa6594d8f4cbf19f97940f81e996739fb7646882a419484c72d19e05852a7e"
   }
  }
 },
 "nbformat": 4,
 "nbformat_minor": 2
}
