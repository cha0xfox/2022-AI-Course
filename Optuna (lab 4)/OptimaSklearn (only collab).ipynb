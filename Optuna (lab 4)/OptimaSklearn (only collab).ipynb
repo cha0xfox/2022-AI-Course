{
  "nbformat": 4,
  "nbformat_minor": 0,
  "metadata": {
    "colab": {
      "provenance": [],
      "collapsed_sections": []
    },
    "kernelspec": {
      "name": "python3",
      "display_name": "Python 3"
    },
    "language_info": {
      "name": "python"
    }
  },
  "cells": [
    {
      "cell_type": "code",
      "execution_count": 1,
      "metadata": {
        "colab": {
          "base_uri": "https://localhost:8080/"
        },
        "id": "8XU0_C-OUYRR",
        "outputId": "bfce73ac-94ab-4449-a80d-0c751f68c665"
      },
      "outputs": [
        {
          "output_type": "stream",
          "name": "stdout",
          "text": [
            "\u001b[K     |████████████████████████████████| 348 kB 5.3 MB/s \n",
            "\u001b[K     |████████████████████████████████| 209 kB 64.4 MB/s \n",
            "\u001b[K     |████████████████████████████████| 81 kB 9.3 MB/s \n",
            "\u001b[K     |████████████████████████████████| 78 kB 6.6 MB/s \n",
            "\u001b[K     |████████████████████████████████| 50 kB 6.5 MB/s \n",
            "\u001b[K     |████████████████████████████████| 147 kB 49.9 MB/s \n",
            "\u001b[K     |████████████████████████████████| 112 kB 46.8 MB/s \n",
            "\u001b[?25h  Building wheel for sklearn (setup.py) ... \u001b[?25l\u001b[?25hdone\n",
            "  Building wheel for pyperclip (setup.py) ... \u001b[?25l\u001b[?25hdone\n"
          ]
        }
      ],
      "source": [
        "!pip install --quiet optuna sklearn numpy"
      ]
    },
    {
      "cell_type": "code",
      "source": [
        "import optuna\n",
        "import numpy as np"
      ],
      "metadata": {
        "id": "fS2N94F9AHXR"
      },
      "execution_count": 3,
      "outputs": []
    },
    {
      "cell_type": "code",
      "source": [
        "def f (x,y):      # Функция Матьяса\n",
        "    return 0.26 * (x*x + y*y) - 0.48*x*y\n",
        "\n",
        "def gradf (x,y):\n",
        "    return np.array([(0.52*x - 0.48*y), (-0.48*x + 0.52*y)])"
      ],
      "metadata": {
        "id": "r5SVcc9q__TV"
      },
      "execution_count": 2,
      "outputs": []
    },
    {
      "cell_type": "code",
      "source": [
        "study = optuna.create_study()\n"
      ],
      "metadata": {
        "colab": {
          "base_uri": "https://localhost:8080/"
        },
        "id": "VWSIayG8ABDx",
        "outputId": "7665b45a-05ec-478d-a430-781eabb4bcfa"
      },
      "execution_count": 4,
      "outputs": [
        {
          "output_type": "stream",
          "name": "stderr",
          "text": [
            "\u001b[32m[I 2022-11-01 11:43:08,204]\u001b[0m A new study created in memory with name: no-name-630f50ac-a053-4000-b00b-6f76225ebb96\u001b[0m\n"
          ]
        }
      ]
    },
    {
      "cell_type": "code",
      "source": [
        "def objective(trial):\n",
        "    x = trial.suggest_float(\"x\", -10, 10)\n",
        "    y = trial.suggest_float(\"y\", -10, 10)\n",
        "    return f(x, y)"
      ],
      "metadata": {
        "id": "mfkebtDTANog"
      },
      "execution_count": 6,
      "outputs": []
    },
    {
      "cell_type": "code",
      "source": [
        "study.optimize(objective, n_trials=100)"
      ],
      "metadata": {
        "colab": {
          "base_uri": "https://localhost:8080/"
        },
        "id": "_BavRnObALPm",
        "outputId": "1a5ff5a5-b61f-420c-ae40-2dfc4b52655b"
      },
      "execution_count": 7,
      "outputs": [
        {
          "output_type": "stream",
          "name": "stderr",
          "text": [
            "\u001b[32m[I 2022-11-01 11:43:36,364]\u001b[0m Trial 0 finished with value: 13.784234389600918 and parameters: {'x': 4.766329586363769, 'y': -2.6469876978748825}. Best is trial 0 with value: 13.784234389600918.\u001b[0m\n",
            "\u001b[32m[I 2022-11-01 11:43:36,371]\u001b[0m Trial 1 finished with value: 7.484746732503247 and parameters: {'x': 9.54437671530264, 'y': 4.897154542030556}. Best is trial 1 with value: 7.484746732503247.\u001b[0m\n",
            "\u001b[32m[I 2022-11-01 11:43:36,374]\u001b[0m Trial 2 finished with value: 44.42882680877801 and parameters: {'x': 8.153429829894346, 'y': -5.16414783881949}. Best is trial 1 with value: 7.484746732503247.\u001b[0m\n",
            "\u001b[32m[I 2022-11-01 11:43:36,376]\u001b[0m Trial 3 finished with value: 6.498133610811639 and parameters: {'x': 5.9563672821521525, 'y': 1.054701112158691}. Best is trial 3 with value: 6.498133610811639.\u001b[0m\n",
            "\u001b[32m[I 2022-11-01 11:43:36,382]\u001b[0m Trial 4 finished with value: 13.661035129421592 and parameters: {'x': 7.304191212714009, 'y': 0.060245938520747444}. Best is trial 3 with value: 6.498133610811639.\u001b[0m\n",
            "\u001b[32m[I 2022-11-01 11:43:36,384]\u001b[0m Trial 5 finished with value: 11.723045892989028 and parameters: {'x': 4.528278776387209, 'y': -2.3050567877072474}. Best is trial 3 with value: 6.498133610811639.\u001b[0m\n",
            "\u001b[32m[I 2022-11-01 11:43:36,386]\u001b[0m Trial 6 finished with value: 4.1759518277908665 and parameters: {'x': -3.619827021575855, 'y': 0.41668157894740077}. Best is trial 6 with value: 4.1759518277908665.\u001b[0m\n",
            "\u001b[32m[I 2022-11-01 11:43:36,389]\u001b[0m Trial 7 finished with value: 60.526500898320606 and parameters: {'x': 7.0708156481440305, 'y': -8.486364445221417}. Best is trial 6 with value: 4.1759518277908665.\u001b[0m\n",
            "\u001b[32m[I 2022-11-01 11:43:36,391]\u001b[0m Trial 8 finished with value: 10.30003999379976 and parameters: {'x': -4.076090196756253, 'y': 2.333172592692849}. Best is trial 6 with value: 4.1759518277908665.\u001b[0m\n",
            "\u001b[32m[I 2022-11-01 11:43:36,394]\u001b[0m Trial 9 finished with value: 3.426569034151502 and parameters: {'x': -5.492864176973464, 'y': -8.022600313569672}. Best is trial 9 with value: 3.426569034151502.\u001b[0m\n",
            "\u001b[32m[I 2022-11-01 11:43:36,665]\u001b[0m Trial 10 finished with value: 3.2410245246839438 and parameters: {'x': -9.132725371405723, 'y': -8.78687839749032}. Best is trial 10 with value: 3.2410245246839438.\u001b[0m\n",
            "\u001b[32m[I 2022-11-01 11:43:36,682]\u001b[0m Trial 11 finished with value: 3.9795362731167785 and parameters: {'x': -9.948330568296328, 'y': -9.998845505986283}. Best is trial 10 with value: 3.2410245246839438.\u001b[0m\n",
            "\u001b[32m[I 2022-11-01 11:43:36,694]\u001b[0m Trial 12 finished with value: 5.786487400097801 and parameters: {'x': -9.98507725021346, 'y': -6.477115087007445}. Best is trial 10 with value: 3.2410245246839438.\u001b[0m\n",
            "\u001b[32m[I 2022-11-01 11:43:36,704]\u001b[0m Trial 13 finished with value: 55.35549106484589 and parameters: {'x': -6.059668889615497, 'y': 8.810411836092747}. Best is trial 10 with value: 3.2410245246839438.\u001b[0m\n",
            "\u001b[32m[I 2022-11-01 11:43:36,715]\u001b[0m Trial 14 finished with value: 9.614524952558577 and parameters: {'x': -0.2805895535233515, 'y': -6.339079392741423}. Best is trial 10 with value: 3.2410245246839438.\u001b[0m\n",
            "\u001b[32m[I 2022-11-01 11:43:36,730]\u001b[0m Trial 15 finished with value: 4.156918141188953 and parameters: {'x': -7.028974298276007, 'y': -3.54218555519926}. Best is trial 10 with value: 3.2410245246839438.\u001b[0m\n",
            "\u001b[32m[I 2022-11-01 11:43:36,748]\u001b[0m Trial 16 finished with value: 14.902219964026482 and parameters: {'x': -0.9233871856677229, 'y': -8.414771029907792}. Best is trial 10 with value: 3.2410245246839438.\u001b[0m\n",
            "\u001b[32m[I 2022-11-01 11:43:36,762]\u001b[0m Trial 17 finished with value: 5.4431121666284525 and parameters: {'x': -6.601999648298746, 'y': -9.900379287574351}. Best is trial 10 with value: 3.2410245246839438.\u001b[0m\n",
            "\u001b[32m[I 2022-11-01 11:43:36,778]\u001b[0m Trial 18 finished with value: 11.041429460032589 and parameters: {'x': 1.9368921221034405, 'y': -4.6860530243902145}. Best is trial 10 with value: 3.2410245246839438.\u001b[0m\n",
            "\u001b[32m[I 2022-11-01 11:43:36,793]\u001b[0m Trial 19 finished with value: 6.2940512748703235 and parameters: {'x': -3.4002343451150443, 'y': -7.8818407898450875}. Best is trial 10 with value: 3.2410245246839438.\u001b[0m\n",
            "\u001b[32m[I 2022-11-01 11:43:36,807]\u001b[0m Trial 20 finished with value: 69.55884870724731 and parameters: {'x': -8.210125674238228, 'y': 8.470182765396896}. Best is trial 10 with value: 3.2410245246839438.\u001b[0m\n",
            "\u001b[32m[I 2022-11-01 11:43:36,819]\u001b[0m Trial 21 finished with value: 3.8271518549029224 and parameters: {'x': -9.560045160136962, 'y': -9.920067396572858}. Best is trial 10 with value: 3.2410245246839438.\u001b[0m\n",
            "\u001b[32m[I 2022-11-01 11:43:36,830]\u001b[0m Trial 22 finished with value: 2.605579475658814 and parameters: {'x': -8.13160999061866, 'y': -7.0162661922352525}. Best is trial 22 with value: 2.605579475658814.\u001b[0m\n",
            "\u001b[32m[I 2022-11-01 11:43:36,840]\u001b[0m Trial 23 finished with value: 1.8185832599855374 and parameters: {'x': -5.300151122666729, 'y': -6.577377035958712}. Best is trial 23 with value: 1.8185832599855374.\u001b[0m\n",
            "\u001b[32m[I 2022-11-01 11:43:36,851]\u001b[0m Trial 24 finished with value: 2.7204718170628617 and parameters: {'x': -7.989249798290962, 'y': -6.364086021200188}. Best is trial 23 with value: 1.8185832599855374.\u001b[0m\n",
            "\u001b[32m[I 2022-11-01 11:43:36,861]\u001b[0m Trial 25 finished with value: 0.233034305086796 and parameters: {'x': -2.096014215001845, 'y': -1.4384025077211562}. Best is trial 25 with value: 0.233034305086796.\u001b[0m\n",
            "\u001b[32m[I 2022-11-01 11:43:36,872]\u001b[0m Trial 26 finished with value: 0.09941841042351729 and parameters: {'x': -1.525387359313406, 'y': -1.2126621978931909}. Best is trial 26 with value: 0.09941841042351729.\u001b[0m\n",
            "\u001b[32m[I 2022-11-01 11:43:36,892]\u001b[0m Trial 27 finished with value: 0.15081509409478766 and parameters: {'x': -1.863745014937506, 'y': -1.4630476113415103}. Best is trial 26 with value: 0.09941841042351729.\u001b[0m\n",
            "\u001b[32m[I 2022-11-01 11:43:36,904]\u001b[0m Trial 28 finished with value: 0.11766829188745676 and parameters: {'x': -1.5406131541758155, 'y': -1.7406362840965977}. Best is trial 26 with value: 0.09941841042351729.\u001b[0m\n",
            "\u001b[32m[I 2022-11-01 11:43:36,917]\u001b[0m Trial 29 finished with value: 0.5465771255021159 and parameters: {'x': 1.7876978456417845, 'y': 2.926685203231165}. Best is trial 26 with value: 0.09941841042351729.\u001b[0m\n",
            "\u001b[32m[I 2022-11-01 11:43:36,936]\u001b[0m Trial 30 finished with value: 1.7888520660788254 and parameters: {'x': 1.416306378813441, 'y': -1.2584668323988306}. Best is trial 26 with value: 0.09941841042351729.\u001b[0m\n",
            "\u001b[32m[I 2022-11-01 11:43:36,954]\u001b[0m Trial 31 finished with value: 0.09420392723696347 and parameters: {'x': -1.5578135486370512, 'y': -1.4956984702942842}. Best is trial 31 with value: 0.09420392723696347.\u001b[0m\n",
            "\u001b[32m[I 2022-11-01 11:43:36,967]\u001b[0m Trial 32 finished with value: 0.6875973007229099 and parameters: {'x': -1.99390823601789, 'y': -3.2745767494202305}. Best is trial 31 with value: 0.09420392723696347.\u001b[0m\n",
            "\u001b[32m[I 2022-11-01 11:43:36,981]\u001b[0m Trial 33 finished with value: 0.9372842716905108 and parameters: {'x': 0.756530341782423, 'y': -1.177903649898435}. Best is trial 31 with value: 0.09420392723696347.\u001b[0m\n",
            "\u001b[32m[I 2022-11-01 11:43:36,997]\u001b[0m Trial 34 finished with value: 0.8147457861002532 and parameters: {'x': 3.140162538947485, 'y': 1.6044068274122694}. Best is trial 31 with value: 0.09420392723696347.\u001b[0m\n",
            "\u001b[32m[I 2022-11-01 11:43:37,008]\u001b[0m Trial 35 finished with value: 5.610157664027784 and parameters: {'x': -1.255342528316847, 'y': 3.4612234086527485}. Best is trial 31 with value: 0.09420392723696347.\u001b[0m\n",
            "\u001b[32m[I 2022-11-01 11:43:37,019]\u001b[0m Trial 36 finished with value: 2.09763213768219 and parameters: {'x': -2.0240741269791256, 'y': -4.600000022148321}. Best is trial 31 with value: 0.09420392723696347.\u001b[0m\n",
            "\u001b[32m[I 2022-11-01 11:43:37,030]\u001b[0m Trial 37 finished with value: 7.840047522455832 and parameters: {'x': 3.3198237466056657, 'y': -2.2763028293064345}. Best is trial 31 with value: 0.09420392723696347.\u001b[0m\n",
            "\u001b[32m[I 2022-11-01 11:43:37,045]\u001b[0m Trial 38 finished with value: 5.415450614336325 and parameters: {'x': 0.10872755102436193, 'y': 4.664014563462696}. Best is trial 31 with value: 0.09420392723696347.\u001b[0m\n",
            "\u001b[32m[I 2022-11-01 11:43:37,059]\u001b[0m Trial 39 finished with value: 4.220695045927324 and parameters: {'x': -4.36582698001939, 'y': -0.36750181510349544}. Best is trial 31 with value: 0.09420392723696347.\u001b[0m\n",
            "\u001b[32m[I 2022-11-01 11:43:37,074]\u001b[0m Trial 40 finished with value: 3.8144662726136067 and parameters: {'x': -2.8101438465490634, 'y': 1.0806424607041174}. Best is trial 31 with value: 0.09420392723696347.\u001b[0m\n",
            "\u001b[32m[I 2022-11-01 11:43:37,086]\u001b[0m Trial 41 finished with value: 0.4235792731675905 and parameters: {'x': -2.4716660352605295, 'y': -1.4298142423409015}. Best is trial 31 with value: 0.09420392723696347.\u001b[0m\n",
            "\u001b[32m[I 2022-11-01 11:43:37,097]\u001b[0m Trial 42 finished with value: 0.098057521756348 and parameters: {'x': -0.8116415199573579, 'y': -0.2203462132212508}. Best is trial 31 with value: 0.09420392723696347.\u001b[0m\n",
            "\u001b[32m[I 2022-11-01 11:43:37,111]\u001b[0m Trial 43 finished with value: 25.531194104430963 and parameters: {'x': 9.901564444697977, 'y': -0.008525758728020538}. Best is trial 31 with value: 0.09420392723696347.\u001b[0m\n",
            "\u001b[32m[I 2022-11-01 11:43:37,122]\u001b[0m Trial 44 finished with value: 0.9429813938540725 and parameters: {'x': -1.068949057086894, 'y': -2.8462436882834927}. Best is trial 31 with value: 0.09420392723696347.\u001b[0m\n",
            "\u001b[32m[I 2022-11-01 11:43:37,134]\u001b[0m Trial 45 finished with value: 4.486293122618584 and parameters: {'x': -4.612377910041255, 'y': -0.5015274673572965}. Best is trial 31 with value: 0.09420392723696347.\u001b[0m\n",
            "\u001b[32m[I 2022-11-01 11:43:37,145]\u001b[0m Trial 46 finished with value: 0.11629174879771757 and parameters: {'x': 0.1764359669406672, 'y': 0.8281992075704752}. Best is trial 31 with value: 0.09420392723696347.\u001b[0m\n",
            "\u001b[32m[I 2022-11-01 11:43:37,157]\u001b[0m Trial 47 finished with value: 0.0806889586205699 and parameters: {'x': 0.43761130418054434, 'y': 0.9349980518088781}. Best is trial 47 with value: 0.0806889586205699.\u001b[0m\n",
            "\u001b[32m[I 2022-11-01 11:43:37,173]\u001b[0m Trial 48 finished with value: 0.7664654734113612 and parameters: {'x': -0.0024250150492398093, 'y': 1.7147190833288837}. Best is trial 47 with value: 0.0806889586205699.\u001b[0m\n",
            "\u001b[32m[I 2022-11-01 11:43:37,185]\u001b[0m Trial 49 finished with value: 5.260035730805113 and parameters: {'x': 2.6924358136557327, 'y': 6.862372113221892}. Best is trial 47 with value: 0.0806889586205699.\u001b[0m\n",
            "\u001b[32m[I 2022-11-01 11:43:37,196]\u001b[0m Trial 50 finished with value: 3.8948658818804063 and parameters: {'x': 4.309815585958291, 'y': 0.4807858054709313}. Best is trial 47 with value: 0.0806889586205699.\u001b[0m\n",
            "\u001b[32m[I 2022-11-01 11:43:37,208]\u001b[0m Trial 51 finished with value: 6.479121155722927 and parameters: {'x': 1.0838660466412102, 'y': -3.9740348610342364}. Best is trial 47 with value: 0.0806889586205699.\u001b[0m\n",
            "\u001b[32m[I 2022-11-01 11:43:37,225]\u001b[0m Trial 52 finished with value: 1.818298209455181 and parameters: {'x': 0.48118326168255887, 'y': -2.1938610791759925}. Best is trial 47 with value: 0.0806889586205699.\u001b[0m\n",
            "\u001b[32m[I 2022-11-01 11:43:37,240]\u001b[0m Trial 53 finished with value: 12.082795954810535 and parameters: {'x': -3.366961174339944, 'y': 3.5849653777701693}. Best is trial 47 with value: 0.0806889586205699.\u001b[0m\n",
            "\u001b[32m[I 2022-11-01 11:43:37,256]\u001b[0m Trial 54 finished with value: 0.3042712598132416 and parameters: {'x': -0.5743612959129201, 'y': 0.5288168707793584}. Best is trial 47 with value: 0.0806889586205699.\u001b[0m\n",
            "\u001b[32m[I 2022-11-01 11:43:37,268]\u001b[0m Trial 55 finished with value: 1.5477076588673178 and parameters: {'x': -1.058298654113041, 'y': 1.4287360622780572}. Best is trial 47 with value: 0.0806889586205699.\u001b[0m\n",
            "\u001b[32m[I 2022-11-01 11:43:37,280]\u001b[0m Trial 56 finished with value: 0.2061586503996753 and parameters: {'x': 2.21157068867007, 'y': 2.304870694146641}. Best is trial 47 with value: 0.0806889586205699.\u001b[0m\n",
            "\u001b[32m[I 2022-11-01 11:43:37,293]\u001b[0m Trial 57 finished with value: 10.509302977135723 and parameters: {'x': 5.7706130967454, 'y': -0.630994896466732}. Best is trial 47 with value: 0.0806889586205699.\u001b[0m\n",
            "\u001b[32m[I 2022-11-01 11:43:37,306]\u001b[0m Trial 58 finished with value: 18.44255259328742 and parameters: {'x': 8.766483545938687, 'y': 0.3743430602600758}. Best is trial 47 with value: 0.0806889586205699.\u001b[0m\n",
            "\u001b[32m[I 2022-11-01 11:43:37,317]\u001b[0m Trial 59 finished with value: 6.73569362250408 and parameters: {'x': -0.3482519921122915, 'y': -5.409544861122303}. Best is trial 47 with value: 0.0806889586205699.\u001b[0m\n",
            "\u001b[32m[I 2022-11-01 11:43:37,331]\u001b[0m Trial 60 finished with value: 0.4994845284232241 and parameters: {'x': -2.9933886377907633, 'y': -1.9913799572688953}. Best is trial 47 with value: 0.0806889586205699.\u001b[0m\n",
            "\u001b[32m[I 2022-11-01 11:43:37,347]\u001b[0m Trial 61 finished with value: 3.547142247922599 and parameters: {'x': 0.729240747217742, 'y': -3.0098137408212136}. Best is trial 47 with value: 0.0806889586205699.\u001b[0m\n",
            "\u001b[32m[I 2022-11-01 11:43:37,363]\u001b[0m Trial 62 finished with value: 0.12884344115129465 and parameters: {'x': -1.8109895443667, 'y': -1.7736212183901408}. Best is trial 47 with value: 0.0806889586205699.\u001b[0m\n",
            "\u001b[32m[I 2022-11-01 11:43:37,377]\u001b[0m Trial 63 finished with value: 0.1233004687785586 and parameters: {'x': -1.381919648754445, 'y': -0.8377456800249375}. Best is trial 47 with value: 0.0806889586205699.\u001b[0m\n",
            "\u001b[32m[I 2022-11-01 11:43:37,390]\u001b[0m Trial 64 finished with value: 0.10567492000526169 and parameters: {'x': -1.3098324691388332, 'y': -0.818376778388838}. Best is trial 47 with value: 0.0806889586205699.\u001b[0m\n",
            "\u001b[32m[I 2022-11-01 11:43:37,404]\u001b[0m Trial 65 finished with value: 6.058321792102973 and parameters: {'x': -4.0196423603442355, 'y': 0.8624233808174425}. Best is trial 47 with value: 0.0806889586205699.\u001b[0m\n",
            "\u001b[32m[I 2022-11-01 11:43:37,416]\u001b[0m Trial 66 finished with value: 1.0168472813252079 and parameters: {'x': 0.1682206367302329, 'y': 2.1318343968668394}. Best is trial 47 with value: 0.0806889586205699.\u001b[0m\n",
            "\u001b[32m[I 2022-11-01 11:43:37,432]\u001b[0m Trial 67 finished with value: 0.02868276804165422 and parameters: {'x': -0.4810988975176619, 'y': -0.16826659333853722}. Best is trial 67 with value: 0.02868276804165422.\u001b[0m\n",
            "\u001b[32m[I 2022-11-01 11:43:37,445]\u001b[0m Trial 68 finished with value: 0.04308486028068229 and parameters: {'x': -0.4802662872525729, 'y': -0.08056890602261219}. Best is trial 67 with value: 0.02868276804165422.\u001b[0m\n",
            "\u001b[32m[I 2022-11-01 11:43:37,461]\u001b[0m Trial 69 finished with value: 0.03884112168956255 and parameters: {'x': -0.6263767779607035, 'y': -0.27595347486632504}. Best is trial 67 with value: 0.02868276804165422.\u001b[0m\n",
            "\u001b[32m[I 2022-11-01 11:43:37,473]\u001b[0m Trial 70 finished with value: 2.8085813932471275 and parameters: {'x': -0.4368782118814283, 'y': 2.8791052994026103}. Best is trial 67 with value: 0.02868276804165422.\u001b[0m\n",
            "\u001b[32m[I 2022-11-01 11:43:37,491]\u001b[0m Trial 71 finished with value: 0.7115076737476813 and parameters: {'x': 1.5038214973293327, 'y': -0.16170534556378835}. Best is trial 67 with value: 0.02868276804165422.\u001b[0m\n",
            "\u001b[32m[I 2022-11-01 11:43:37,504]\u001b[0m Trial 72 finished with value: 0.8632349758315625 and parameters: {'x': -2.5958313979357897, 'y': -0.8719018935502332}. Best is trial 67 with value: 0.02868276804165422.\u001b[0m\n",
            "\u001b[32m[I 2022-11-01 11:43:37,516]\u001b[0m Trial 73 finished with value: 0.1354730428000276 and parameters: {'x': -0.6472684380868149, 'y': 0.08007170648554673}. Best is trial 67 with value: 0.02868276804165422.\u001b[0m\n",
            "\u001b[32m[I 2022-11-01 11:43:37,526]\u001b[0m Trial 74 finished with value: 5.589094383875204 and parameters: {'x': 1.0152266739407072, 'y': -3.6828296590604235}. Best is trial 67 with value: 0.02868276804165422.\u001b[0m\n",
            "\u001b[32m[I 2022-11-01 11:43:37,539]\u001b[0m Trial 75 finished with value: 0.5605972904418666 and parameters: {'x': -1.428237511954288, 'y': -2.6801324768640935}. Best is trial 67 with value: 0.02868276804165422.\u001b[0m\n",
            "\u001b[32m[I 2022-11-01 11:43:37,554]\u001b[0m Trial 76 finished with value: 0.7205503146162009 and parameters: {'x': -2.4949915250581594, 'y': -0.9427412228790255}. Best is trial 67 with value: 0.02868276804165422.\u001b[0m\n",
            "\u001b[32m[I 2022-11-01 11:43:37,569]\u001b[0m Trial 77 finished with value: 4.97787107426767 and parameters: {'x': -3.156944529052926, 'y': 1.2896282516257966}. Best is trial 67 with value: 0.02868276804165422.\u001b[0m\n",
            "\u001b[32m[I 2022-11-01 11:43:37,582]\u001b[0m Trial 78 finished with value: 0.09450156475596762 and parameters: {'x': -0.6825624779510107, 'y': -0.08733427054649849}. Best is trial 67 with value: 0.02868276804165422.\u001b[0m\n",
            "\u001b[32m[I 2022-11-01 11:43:37,596]\u001b[0m Trial 79 finished with value: 0.14853377089871528 and parameters: {'x': -0.8090293461051422, 'y': -0.05798575469779382}. Best is trial 67 with value: 0.02868276804165422.\u001b[0m\n",
            "\u001b[32m[I 2022-11-01 11:43:37,610]\u001b[0m Trial 80 finished with value: 0.1603475516441446 and parameters: {'x': 2.0046674665625264, 'y': 1.7013303253784713}. Best is trial 67 with value: 0.02868276804165422.\u001b[0m\n",
            "\u001b[32m[I 2022-11-01 11:43:37,622]\u001b[0m Trial 81 finished with value: 1.278984847591091 and parameters: {'x': 0.4368326099025237, 'y': -1.8083178352634632}. Best is trial 67 with value: 0.02868276804165422.\u001b[0m\n",
            "\u001b[32m[I 2022-11-01 11:43:37,636]\u001b[0m Trial 82 finished with value: 0.6692519464847553 and parameters: {'x': -2.076945431848572, 'y': -0.5258054304664402}. Best is trial 67 with value: 0.02868276804165422.\u001b[0m\n",
            "\u001b[32m[I 2022-11-01 11:43:37,650]\u001b[0m Trial 83 finished with value: 0.1490966820776046 and parameters: {'x': -0.3100781425399003, 'y': 0.46158792496829226}. Best is trial 67 with value: 0.02868276804165422.\u001b[0m\n",
            "\u001b[32m[I 2022-11-01 11:43:37,665]\u001b[0m Trial 84 finished with value: 0.09193495333989976 and parameters: {'x': -1.4842246706892328, 'y': -1.2035608704829575}. Best is trial 67 with value: 0.02868276804165422.\u001b[0m\n",
            "\u001b[32m[I 2022-11-01 11:43:37,680]\u001b[0m Trial 85 finished with value: 1.7607662915448703 and parameters: {'x': 1.3453380611227908, 'y': -1.3085291115572506}. Best is trial 67 with value: 0.02868276804165422.\u001b[0m\n",
            "\u001b[32m[I 2022-11-01 11:43:37,692]\u001b[0m Trial 86 finished with value: 5.975627149606559 and parameters: {'x': -3.765188914368486, 'y': 1.0945661789072794}. Best is trial 67 with value: 0.02868276804165422.\u001b[0m\n",
            "\u001b[32m[I 2022-11-01 11:43:37,704]\u001b[0m Trial 87 finished with value: 0.23697632841511584 and parameters: {'x': -1.7989972025512886, 'y': -2.318405597647974}. Best is trial 67 with value: 0.02868276804165422.\u001b[0m\n",
            "\u001b[32m[I 2022-11-01 11:43:37,718]\u001b[0m Trial 88 finished with value: 0.12260653270666862 and parameters: {'x': -0.8905788092718561, 'y': -0.22689498096824962}. Best is trial 67 with value: 0.02868276804165422.\u001b[0m\n",
            "\u001b[32m[I 2022-11-01 11:43:37,733]\u001b[0m Trial 89 finished with value: 0.9139211831573151 and parameters: {'x': 0.11125571071819618, 'y': 1.9770642543704504}. Best is trial 67 with value: 0.02868276804165422.\u001b[0m\n",
            "\u001b[32m[I 2022-11-01 11:43:37,747]\u001b[0m Trial 90 finished with value: 2.390361149450392 and parameters: {'x': -2.332191902405272, 'y': 0.7436006310243248}. Best is trial 67 with value: 0.02868276804165422.\u001b[0m\n",
            "\u001b[32m[I 2022-11-01 11:43:37,760]\u001b[0m Trial 91 finished with value: 0.10105944519817522 and parameters: {'x': -1.4749368925419457, 'y': -1.1028691201924483}. Best is trial 67 with value: 0.02868276804165422.\u001b[0m\n",
            "\u001b[32m[I 2022-11-01 11:43:37,779]\u001b[0m Trial 92 finished with value: 0.2755280095097956 and parameters: {'x': -0.27614294689879815, 'y': -1.2788361400563406}. Best is trial 67 with value: 0.02868276804165422.\u001b[0m\n",
            "\u001b[32m[I 2022-11-01 11:43:37,791]\u001b[0m Trial 93 finished with value: 2.469396045340397 and parameters: {'x': 0.5620879850621594, 'y': -2.5553876662619595}. Best is trial 67 with value: 0.02868276804165422.\u001b[0m\n",
            "\u001b[32m[I 2022-11-01 11:43:37,805]\u001b[0m Trial 94 finished with value: 1.0014165775532098 and parameters: {'x': -1.7423590309708659, 'y': 0.23625991368973742}. Best is trial 67 with value: 0.02868276804165422.\u001b[0m\n",
            "\u001b[32m[I 2022-11-01 11:43:37,818]\u001b[0m Trial 95 finished with value: 3.655743661876164 and parameters: {'x': -1.139884452623136, 'y': 2.6718213881426873}. Best is trial 67 with value: 0.02868276804165422.\u001b[0m\n",
            "\u001b[32m[I 2022-11-01 11:43:37,832]\u001b[0m Trial 96 finished with value: 0.4937884077203205 and parameters: {'x': -2.7935937750301827, 'y': -1.715728174335986}. Best is trial 67 with value: 0.02868276804165422.\u001b[0m\n",
            "\u001b[32m[I 2022-11-01 11:43:37,845]\u001b[0m Trial 97 finished with value: 0.014854217188904482 and parameters: {'x': -0.14042527703252006, 'y': -0.3624635235685991}. Best is trial 97 with value: 0.014854217188904482.\u001b[0m\n",
            "\u001b[32m[I 2022-11-01 11:43:37,858]\u001b[0m Trial 98 finished with value: 0.5226301817673771 and parameters: {'x': 1.0269241598054626, 'y': -0.4137286003360604}. Best is trial 97 with value: 0.014854217188904482.\u001b[0m\n",
            "\u001b[32m[I 2022-11-01 11:43:37,868]\u001b[0m Trial 99 finished with value: 0.038144365348536755 and parameters: {'x': -0.10821566400387339, 'y': 0.2808667507667393}. Best is trial 97 with value: 0.014854217188904482.\u001b[0m\n"
          ]
        }
      ]
    },
    {
      "cell_type": "code",
      "source": [
        "best_params = study.best_params\n",
        "found_x = best_params[\"x\"]\n",
        "found_y = best_params[\"y\"]\n",
        "print(f\"Found x: {found_x}, Found y: {found_y}, Result: {f(found_x, found_y)}\")"
      ],
      "metadata": {
        "colab": {
          "base_uri": "https://localhost:8080/"
        },
        "id": "v_oNTaY_ATMW",
        "outputId": "366314e5-c8df-42a3-87d3-1755f1e6091e"
      },
      "execution_count": 9,
      "outputs": [
        {
          "output_type": "stream",
          "name": "stdout",
          "text": [
            "Found x: -0.14042527703252006, Found y: -0.3624635235685991, Result: 0.014854217188904482\n"
          ]
        }
      ]
    },
    {
      "cell_type": "code",
      "source": [],
      "metadata": {
        "id": "DhAjJTF8AYNz"
      },
      "execution_count": null,
      "outputs": []
    }
  ]
}