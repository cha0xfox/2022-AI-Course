{
 "cells": [
  {
   "cell_type": "code",
   "execution_count": 1,
   "metadata": {},
   "outputs": [],
   "source": [
    "import numpy as np\n",
    "import matplotlib.pyplot as plt\n",
    "from sklearn import datasets\n",
    "from mpl_toolkits.mplot3d import Axes3D\n",
    "\n",
    "def f(x,y):\n",
    "    return (x**2+y-11)**2 + (x+y**2-7)**2\n",
    "\n",
    "def gradf (x,y):\n",
    "    return np.array([(2*(-7 + x + y**2 + 2*x*(-11 + x**2 + y))), (2*(-11 + x**2 + y + 2*y*(-7 + x + y**2)) )])\n",
    "\n",
    "def dx(x,y):\n",
    "    return 2*(-7 + x + y**2 + 2*x*(-11 + x**2 + y))\n",
    "\n",
    "def dy(x,y):\n",
    "    return 2*(-11 + x**2 + y + 2*y*(-7 + x + y**2))  "
   ]
  },
  {
   "cell_type": "markdown",
   "metadata": {},
   "source": [
    "dx: 2 (-7 + x + y^2 + 2 x (-11 + x^2 + y))\n",
    "\n",
    "dy: 2 (-11 + x^2 + y + 2 y (-7 + x + y^2))"
   ]
  },
  {
   "cell_type": "markdown",
   "metadata": {},
   "source": [
    "# Moment"
   ]
  },
  {
   "cell_type": "code",
   "execution_count": 6,
   "metadata": {},
   "outputs": [],
   "source": [
    "def moment(f, gradf, x0, y0, lr=0.01, lrf=10, k=0.1, km=0.9, kms=0.9, N=300):\n",
    "    \"\"\"moment GD\n",
    "\n",
    "    Args:\n",
    "        f (_type_): function\n",
    "        gradf (_type_): gradient of a fucntion\n",
    "        x0 (_type_): start pos x\n",
    "        y0 (_type_): start pos y\n",
    "        lr (float, optional): learning rate. Defaults to 0.01.\n",
    "        lrf (int, optional): learning rate fall off. Defaults to 10.\n",
    "        k (float, optional): factor of decreasing learning rate . Defaults to 0.1.\n",
    "        km (float, optional): factor of momentum. Defaults to 0.9.\n",
    "        N (int): Iterations count. Defaults to 300.\n",
    "    \"\"\"\n",
    "    x_old = x0;\n",
    "    y_old = y0;\n",
    "    n = np.zeros(gradf(x0,y0).shape)\n",
    "    for i in range(N):\n",
    "        if ((i%lrf)==0):\n",
    "            lr *= k\n",
    "        n = km*n - lr*gradf(x0+km*n[0], y0+km*n[1])\n",
    "        x = x_old - lr*n[0]\n",
    "        y = y_old - lr*n[1]\n",
    "        \n",
    "    return x, y, f(x, y)\n"
   ]
  },
  {
   "cell_type": "code",
   "execution_count": 3,
   "metadata": {},
   "outputs": [
    {
     "data": {
      "text/plain": [
       "(array([ 1.12031365, -0.49772229,  1.9263585 ,  2.49913075,  3.54934659,\n",
       "         1.7373078 ,  2.91970372,  2.84382807,  0.87305123,  2.36833522]),\n",
       " array([5.75806083, 1.55128226, 4.15243012, 1.23133799, 0.6925054 ,\n",
       "        4.42546234, 0.15549864, 3.32650945, 4.71438583, 0.04356792]))"
      ]
     },
     "execution_count": 3,
     "metadata": {},
     "output_type": "execute_result"
    }
   ],
   "source": [
    "#набор точек\n",
    "z, y = datasets.make_blobs(n_samples=10, centers=2, n_features=2, random_state=0)\n",
    "y = np.zeros(10)\n",
    "x = np.zeros(10)\n",
    "# Нам нужно сравнить размерности массивов\n",
    "#y=np.reshape(y,x.shape)\n",
    "for i in range(len(z)):\n",
    "    x[i],y[i] = z[i];\n",
    "x, y"
   ]
  },
  {
   "cell_type": "code",
   "execution_count": 7,
   "metadata": {},
   "outputs": [
    {
     "data": {
      "text/plain": [
       "(array([ 1.12031365, -0.49772229,  1.9263585 ,  2.49913075,  3.54934659,\n",
       "         1.7373078 ,  2.91970372,  2.84382807,  0.87305123,  2.36833522]),\n",
       " array([5.75806083, 1.55128226, 4.15243012, 1.23133799, 0.6925054 ,\n",
       "        4.42546234, 0.15549864, 3.32650945, 4.71438583, 0.04356792]),\n",
       " array([759.8520326 , 110.57900416, 157.92436535,  21.31987261,\n",
       "         14.07315326, 217.76765763,  21.83369908,  47.91238225,\n",
       "        289.66911884,  50.0296433 ]))"
      ]
     },
     "execution_count": 7,
     "metadata": {},
     "output_type": "execute_result"
    }
   ],
   "source": [
    "moment(f,gradf,x,y,lr=0.1,lrf=50,km=0.8,kms=0.9)"
   ]
  }
 ],
 "metadata": {
  "kernelspec": {
   "display_name": "Python 3 (ipykernel)",
   "language": "python",
   "name": "python3"
  },
  "orig_nbformat": 4
 },
 "nbformat": 4,
 "nbformat_minor": 2
}
