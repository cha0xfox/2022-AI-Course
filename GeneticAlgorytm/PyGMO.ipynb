{
 "cells": [
  {
   "cell_type": "code",
   "execution_count": 11,
   "metadata": {},
   "outputs": [],
   "source": [
    "import pygmo as pg\n",
    "import math"
   ]
  },
  {
   "cell_type": "code",
   "execution_count": 13,
   "metadata": {},
   "outputs": [],
   "source": [
    "class HimmelblauOptimization:\n",
    "    \"\"\"\n",
    "    This class defines a PyGMO-compatible User-Defined Optimization Problem.\n",
    "    \"\"\"\n",
    "\n",
    "    def __init__(self,\n",
    "                 x_min: float,\n",
    "                 x_max: float,\n",
    "                 y_min: float,\n",
    "                 y_max: float):\n",
    "        \"\"\"\n",
    "        Constructor for the HimmelblauOptimization class.\n",
    "        \"\"\"\n",
    "        self.x_min = x_min\n",
    "        self.x_max = x_max\n",
    "        self.y_min = y_min\n",
    "        self.y_max = y_max\n",
    "\n",
    "    def get_bounds(self):\n",
    "        \"\"\"\n",
    "        Defines the boundaries of the search space.\n",
    "        \"\"\"\n",
    "        return ([self.x_min, self.y_min], [self.x_max, self.y_max])\n",
    "\n",
    "    def fitness(self,\n",
    "                x: list):\n",
    "        \"\"\"\n",
    "        Computes the fitness value for the problem.\n",
    "        \"\"\"\n",
    "        function_value = math.pow(x[0] * x[0] + x[1] - 11.0, 2.0) + math.pow(x[0] + x[1] * x[1] - 7.0, 2.0)\n",
    "        return [function_value]\n"
   ]
  },
  {
   "cell_type": "code",
   "execution_count": 17,
   "metadata": {},
   "outputs": [],
   "source": [
    "udp = HimmelblauOptimization(-5.0, 5.0, -5.0, 5.0)\n",
    "prob = pg.problem(udp)"
   ]
  },
  {
   "cell_type": "code",
   "execution_count": 18,
   "metadata": {},
   "outputs": [],
   "source": [
    "# Set population size\n",
    "pop_size = 1000\n",
    "# Set seed\n",
    "current_seed = 171015\n",
    "# Create population\n",
    "pop = pg.population(prob, size=pop_size, seed=current_seed)"
   ]
  },
  {
   "cell_type": "code",
   "execution_count": 21,
   "metadata": {},
   "outputs": [],
   "source": [
    "# Define number of generations\n",
    "number_of_generations = 1\n",
    "# Create Differential Evolution object by passing the number of generations as input\n",
    "de_algo = pg.de(gen=number_of_generations)\n",
    "# Create pygmo algorithm object\n",
    "algo = pg.algorithm(de_algo)"
   ]
  },
  {
   "cell_type": "code",
   "execution_count": 22,
   "metadata": {},
   "outputs": [],
   "source": [
    "# Set number of evolutions\n",
    "number_of_evolutions = 100\n",
    "# Initialize empty containers\n",
    "individuals_list = []\n",
    "fitness_list = []\n",
    "# Evolve population multiple times\n",
    "for i in range(number_of_evolutions):\n",
    "    pop = algo.evolve(pop)\n",
    "    individuals_list.append(pop.get_x()[pop.best_idx()])\n",
    "    fitness_list.append(pop.get_f()[pop.best_idx()])"
   ]
  }
 ],
 "metadata": {
  "kernelspec": {
   "display_name": "Python 3 (ipykernel)",
   "language": "python",
   "name": "python3"
  },
  "language_info": {
   "codemirror_mode": {
    "name": "ipython",
    "version": 3
   },
   "file_extension": ".py",
   "mimetype": "text/x-python",
   "name": "python",
   "nbconvert_exporter": "python",
   "pygments_lexer": "ipython3",
   "version": "3.9.14"
  },
  "orig_nbformat": 4,
  "vscode": {
   "interpreter": {
    "hash": "b0fa6594d8f4cbf19f97940f81e996739fb7646882a419484c72d19e05852a7e"
   }
  }
 },
 "nbformat": 4,
 "nbformat_minor": 2
}
